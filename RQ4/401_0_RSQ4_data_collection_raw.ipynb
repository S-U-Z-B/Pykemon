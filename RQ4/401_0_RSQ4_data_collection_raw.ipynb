{
 "cells": [
  {
   "cell_type": "markdown",
   "metadata": {},
   "source": [
    "# API Collection For RSQ4"
   ]
  },
  {
   "cell_type": "markdown",
   "metadata": {},
   "source": [
    "RSQ4 - Main Question: Which generation is the strongest?\n",
    "\n",
    "Sub question: What trends can be seen over the generations (number of pokémon, types, base stat distribution)?\n",
    "\n",
    "For this question we will need the same pokémon details we received from RSQ3 (which is already saved locally) as it contains relevant information on the names, types, and stats of any given pokémon. However, in addition to this, we will also need the pokémons generation number which was not previously available to us. \n",
    "\n",
    "So, the PokéAPI needs to be called again except this time we will simply call for all 8 generations. From there, the next step is to merge the names of the pokémon in each generation to the local file saved in RSQ3."
   ]
  },
  {
   "cell_type": "markdown",
   "metadata": {},
   "source": [
    "## Task 1: Imports"
   ]
  },
  {
   "cell_type": "markdown",
   "metadata": {},
   "source": [
    "Below are the necessary imports needed for this notebook."
   ]
  },
  {
   "cell_type": "code",
   "execution_count": 1,
   "metadata": {},
   "outputs": [],
   "source": [
    "import pandas as pd\n",
    "import json\n",
    "import requests #needed to call from the PokéAPI\n",
    "import urllib.request"
   ]
  },
  {
   "cell_type": "markdown",
   "metadata": {},
   "source": [
    "## Task 2: API Call\n",
    "\n",
    "I call from the PokéAPI to get each generation url and their information. I use a for loop to iterate through the 8 generations and get each url, then I turn them into a json file, and then add them to the empty list 'json_res'. Then, I turn these responses into a dataframe and print the information to show our data.\n",
    "\n",
    "PokéAPI site: https://pokeapi.co/"
   ]
  },
  {
   "cell_type": "code",
   "execution_count": 2,
   "metadata": {},
   "outputs": [],
   "source": [
    "#empty list to hold all json responses\n",
    "json_res = []\n",
    "#loops through all 898 pokemon \n",
    "for x in range(8):\n",
    "    #request each individual pokemons data (1-898)\n",
    "    r = requests.get('http://pokeapi.co/api/v2/generation/{}/'.format(x+1))\n",
    "    #adds all the json responses (dict) to the empty list\n",
    "    json_res.append(r.json())\n",
    "    \n",
    "\n",
    "#creates df from list which contains all responses\n",
    "gen_df = pd.DataFrame(json_res)"
   ]
  },
  {
   "cell_type": "code",
   "execution_count": 3,
   "metadata": {},
   "outputs": [
    {
     "data": {
      "text/html": [
       "<div>\n",
       "<style scoped>\n",
       "    .dataframe tbody tr th:only-of-type {\n",
       "        vertical-align: middle;\n",
       "    }\n",
       "\n",
       "    .dataframe tbody tr th {\n",
       "        vertical-align: top;\n",
       "    }\n",
       "\n",
       "    .dataframe thead th {\n",
       "        text-align: right;\n",
       "    }\n",
       "</style>\n",
       "<table border=\"1\" class=\"dataframe\">\n",
       "  <thead>\n",
       "    <tr style=\"text-align: right;\">\n",
       "      <th></th>\n",
       "      <th>abilities</th>\n",
       "      <th>id</th>\n",
       "      <th>main_region</th>\n",
       "      <th>moves</th>\n",
       "      <th>name</th>\n",
       "      <th>names</th>\n",
       "      <th>pokemon_species</th>\n",
       "      <th>types</th>\n",
       "      <th>version_groups</th>\n",
       "    </tr>\n",
       "  </thead>\n",
       "  <tbody>\n",
       "    <tr>\n",
       "      <th>0</th>\n",
       "      <td>[]</td>\n",
       "      <td>1</td>\n",
       "      <td>{'name': 'kanto', 'url': 'https://pokeapi.co/a...</td>\n",
       "      <td>[{'name': 'pound', 'url': 'https://pokeapi.co/...</td>\n",
       "      <td>generation-i</td>\n",
       "      <td>[{'language': {'name': 'ja-Hrkt', 'url': 'http...</td>\n",
       "      <td>[{'name': 'bulbasaur', 'url': 'https://pokeapi...</td>\n",
       "      <td>[{'name': 'normal', 'url': 'https://pokeapi.co...</td>\n",
       "      <td>[{'name': 'red-blue', 'url': 'https://pokeapi....</td>\n",
       "    </tr>\n",
       "    <tr>\n",
       "      <th>1</th>\n",
       "      <td>[]</td>\n",
       "      <td>2</td>\n",
       "      <td>{'name': 'johto', 'url': 'https://pokeapi.co/a...</td>\n",
       "      <td>[{'name': 'sketch', 'url': 'https://pokeapi.co...</td>\n",
       "      <td>generation-ii</td>\n",
       "      <td>[{'language': {'name': 'ja-Hrkt', 'url': 'http...</td>\n",
       "      <td>[{'name': 'chikorita', 'url': 'https://pokeapi...</td>\n",
       "      <td>[{'name': 'steel', 'url': 'https://pokeapi.co/...</td>\n",
       "      <td>[{'name': 'gold-silver', 'url': 'https://pokea...</td>\n",
       "    </tr>\n",
       "    <tr>\n",
       "      <th>2</th>\n",
       "      <td>[{'name': 'stench', 'url': 'https://pokeapi.co...</td>\n",
       "      <td>3</td>\n",
       "      <td>{'name': 'hoenn', 'url': 'https://pokeapi.co/a...</td>\n",
       "      <td>[{'name': 'fake-out', 'url': 'https://pokeapi....</td>\n",
       "      <td>generation-iii</td>\n",
       "      <td>[{'language': {'name': 'ja-Hrkt', 'url': 'http...</td>\n",
       "      <td>[{'name': 'treecko', 'url': 'https://pokeapi.c...</td>\n",
       "      <td>[{'name': 'shadow', 'url': 'https://pokeapi.co...</td>\n",
       "      <td>[{'name': 'ruby-sapphire', 'url': 'https://pok...</td>\n",
       "    </tr>\n",
       "    <tr>\n",
       "      <th>3</th>\n",
       "      <td>[{'name': 'tangled-feet', 'url': 'https://poke...</td>\n",
       "      <td>4</td>\n",
       "      <td>{'name': 'sinnoh', 'url': 'https://pokeapi.co/...</td>\n",
       "      <td>[{'name': 'roost', 'url': 'https://pokeapi.co/...</td>\n",
       "      <td>generation-iv</td>\n",
       "      <td>[{'language': {'name': 'ja-Hrkt', 'url': 'http...</td>\n",
       "      <td>[{'name': 'turtwig', 'url': 'https://pokeapi.c...</td>\n",
       "      <td>[]</td>\n",
       "      <td>[{'name': 'diamond-pearl', 'url': 'https://pok...</td>\n",
       "    </tr>\n",
       "    <tr>\n",
       "      <th>4</th>\n",
       "      <td>[{'name': 'pickpocket', 'url': 'https://pokeap...</td>\n",
       "      <td>5</td>\n",
       "      <td>{'name': 'unova', 'url': 'https://pokeapi.co/a...</td>\n",
       "      <td>[{'name': 'hone-claws', 'url': 'https://pokeap...</td>\n",
       "      <td>generation-v</td>\n",
       "      <td>[{'language': {'name': 'ja-Hrkt', 'url': 'http...</td>\n",
       "      <td>[{'name': 'victini', 'url': 'https://pokeapi.c...</td>\n",
       "      <td>[]</td>\n",
       "      <td>[{'name': 'black-white', 'url': 'https://pokea...</td>\n",
       "    </tr>\n",
       "    <tr>\n",
       "      <th>5</th>\n",
       "      <td>[{'name': 'aroma-veil', 'url': 'https://pokeap...</td>\n",
       "      <td>6</td>\n",
       "      <td>{'name': 'kalos', 'url': 'https://pokeapi.co/a...</td>\n",
       "      <td>[{'name': 'flying-press', 'url': 'https://poke...</td>\n",
       "      <td>generation-vi</td>\n",
       "      <td>[{'language': {'name': 'ja-Hrkt', 'url': 'http...</td>\n",
       "      <td>[{'name': 'chespin', 'url': 'https://pokeapi.c...</td>\n",
       "      <td>[{'name': 'fairy', 'url': 'https://pokeapi.co/...</td>\n",
       "      <td>[{'name': 'x-y', 'url': 'https://pokeapi.co/ap...</td>\n",
       "    </tr>\n",
       "    <tr>\n",
       "      <th>6</th>\n",
       "      <td>[{'name': 'stamina', 'url': 'https://pokeapi.c...</td>\n",
       "      <td>7</td>\n",
       "      <td>{'name': 'alola', 'url': 'https://pokeapi.co/a...</td>\n",
       "      <td>[{'name': 'breakneck-blitz--physical', 'url': ...</td>\n",
       "      <td>generation-vii</td>\n",
       "      <td>[{'language': {'name': 'ja-Hrkt', 'url': 'http...</td>\n",
       "      <td>[{'name': 'rowlet', 'url': 'https://pokeapi.co...</td>\n",
       "      <td>[]</td>\n",
       "      <td>[{'name': 'sun-moon', 'url': 'https://pokeapi....</td>\n",
       "    </tr>\n",
       "    <tr>\n",
       "      <th>7</th>\n",
       "      <td>[{'name': 'intrepid-sword', 'url': 'https://po...</td>\n",
       "      <td>8</td>\n",
       "      <td>{'name': 'galar', 'url': 'https://pokeapi.co/a...</td>\n",
       "      <td>[{'name': 'max-guard', 'url': 'https://pokeapi...</td>\n",
       "      <td>generation-viii</td>\n",
       "      <td>[{'language': {'name': 'en', 'url': 'https://p...</td>\n",
       "      <td>[{'name': 'grookey', 'url': 'https://pokeapi.c...</td>\n",
       "      <td>[]</td>\n",
       "      <td>[{'name': 'sword-shield', 'url': 'https://poke...</td>\n",
       "    </tr>\n",
       "  </tbody>\n",
       "</table>\n",
       "</div>"
      ],
      "text/plain": [
       "                                           abilities  id  \\\n",
       "0                                                 []   1   \n",
       "1                                                 []   2   \n",
       "2  [{'name': 'stench', 'url': 'https://pokeapi.co...   3   \n",
       "3  [{'name': 'tangled-feet', 'url': 'https://poke...   4   \n",
       "4  [{'name': 'pickpocket', 'url': 'https://pokeap...   5   \n",
       "5  [{'name': 'aroma-veil', 'url': 'https://pokeap...   6   \n",
       "6  [{'name': 'stamina', 'url': 'https://pokeapi.c...   7   \n",
       "7  [{'name': 'intrepid-sword', 'url': 'https://po...   8   \n",
       "\n",
       "                                         main_region  \\\n",
       "0  {'name': 'kanto', 'url': 'https://pokeapi.co/a...   \n",
       "1  {'name': 'johto', 'url': 'https://pokeapi.co/a...   \n",
       "2  {'name': 'hoenn', 'url': 'https://pokeapi.co/a...   \n",
       "3  {'name': 'sinnoh', 'url': 'https://pokeapi.co/...   \n",
       "4  {'name': 'unova', 'url': 'https://pokeapi.co/a...   \n",
       "5  {'name': 'kalos', 'url': 'https://pokeapi.co/a...   \n",
       "6  {'name': 'alola', 'url': 'https://pokeapi.co/a...   \n",
       "7  {'name': 'galar', 'url': 'https://pokeapi.co/a...   \n",
       "\n",
       "                                               moves             name  \\\n",
       "0  [{'name': 'pound', 'url': 'https://pokeapi.co/...     generation-i   \n",
       "1  [{'name': 'sketch', 'url': 'https://pokeapi.co...    generation-ii   \n",
       "2  [{'name': 'fake-out', 'url': 'https://pokeapi....   generation-iii   \n",
       "3  [{'name': 'roost', 'url': 'https://pokeapi.co/...    generation-iv   \n",
       "4  [{'name': 'hone-claws', 'url': 'https://pokeap...     generation-v   \n",
       "5  [{'name': 'flying-press', 'url': 'https://poke...    generation-vi   \n",
       "6  [{'name': 'breakneck-blitz--physical', 'url': ...   generation-vii   \n",
       "7  [{'name': 'max-guard', 'url': 'https://pokeapi...  generation-viii   \n",
       "\n",
       "                                               names  \\\n",
       "0  [{'language': {'name': 'ja-Hrkt', 'url': 'http...   \n",
       "1  [{'language': {'name': 'ja-Hrkt', 'url': 'http...   \n",
       "2  [{'language': {'name': 'ja-Hrkt', 'url': 'http...   \n",
       "3  [{'language': {'name': 'ja-Hrkt', 'url': 'http...   \n",
       "4  [{'language': {'name': 'ja-Hrkt', 'url': 'http...   \n",
       "5  [{'language': {'name': 'ja-Hrkt', 'url': 'http...   \n",
       "6  [{'language': {'name': 'ja-Hrkt', 'url': 'http...   \n",
       "7  [{'language': {'name': 'en', 'url': 'https://p...   \n",
       "\n",
       "                                     pokemon_species  \\\n",
       "0  [{'name': 'bulbasaur', 'url': 'https://pokeapi...   \n",
       "1  [{'name': 'chikorita', 'url': 'https://pokeapi...   \n",
       "2  [{'name': 'treecko', 'url': 'https://pokeapi.c...   \n",
       "3  [{'name': 'turtwig', 'url': 'https://pokeapi.c...   \n",
       "4  [{'name': 'victini', 'url': 'https://pokeapi.c...   \n",
       "5  [{'name': 'chespin', 'url': 'https://pokeapi.c...   \n",
       "6  [{'name': 'rowlet', 'url': 'https://pokeapi.co...   \n",
       "7  [{'name': 'grookey', 'url': 'https://pokeapi.c...   \n",
       "\n",
       "                                               types  \\\n",
       "0  [{'name': 'normal', 'url': 'https://pokeapi.co...   \n",
       "1  [{'name': 'steel', 'url': 'https://pokeapi.co/...   \n",
       "2  [{'name': 'shadow', 'url': 'https://pokeapi.co...   \n",
       "3                                                 []   \n",
       "4                                                 []   \n",
       "5  [{'name': 'fairy', 'url': 'https://pokeapi.co/...   \n",
       "6                                                 []   \n",
       "7                                                 []   \n",
       "\n",
       "                                      version_groups  \n",
       "0  [{'name': 'red-blue', 'url': 'https://pokeapi....  \n",
       "1  [{'name': 'gold-silver', 'url': 'https://pokea...  \n",
       "2  [{'name': 'ruby-sapphire', 'url': 'https://pok...  \n",
       "3  [{'name': 'diamond-pearl', 'url': 'https://pok...  \n",
       "4  [{'name': 'black-white', 'url': 'https://pokea...  \n",
       "5  [{'name': 'x-y', 'url': 'https://pokeapi.co/ap...  \n",
       "6  [{'name': 'sun-moon', 'url': 'https://pokeapi....  \n",
       "7  [{'name': 'sword-shield', 'url': 'https://poke...  "
      ]
     },
     "execution_count": 3,
     "metadata": {},
     "output_type": "execute_result"
    }
   ],
   "source": [
    "gen_df"
   ]
  },
  {
   "cell_type": "markdown",
   "metadata": {},
   "source": [
    "## Task 3: Save Local File\n",
    "\n",
    "I save this dataframe to a local csv file so that I can edit it in a later notebook."
   ]
  },
  {
   "cell_type": "code",
   "execution_count": 6,
   "metadata": {},
   "outputs": [],
   "source": [
    "gen_df.to_csv(\"401_all_generation_data.csv\", index=False)"
   ]
  },
  {
   "cell_type": "code",
   "execution_count": 15,
   "metadata": {},
   "outputs": [
    {
     "data": {
      "text/plain": [
       "(8, 9)"
      ]
     },
     "execution_count": 15,
     "metadata": {},
     "output_type": "execute_result"
    }
   ],
   "source": [
    "df1 = pd.read_csv(\"401_all_generation_data.csv\")\n",
    "df1.shape"
   ]
  }
 ],
 "metadata": {
  "kernelspec": {
   "display_name": "Python 3",
   "language": "python",
   "name": "python3"
  },
  "language_info": {
   "codemirror_mode": {
    "name": "ipython",
    "version": 3
   },
   "file_extension": ".py",
   "mimetype": "text/x-python",
   "name": "python",
   "nbconvert_exporter": "python",
   "pygments_lexer": "ipython3",
   "version": "3.8.5"
  }
 },
 "nbformat": 4,
 "nbformat_minor": 4
}
